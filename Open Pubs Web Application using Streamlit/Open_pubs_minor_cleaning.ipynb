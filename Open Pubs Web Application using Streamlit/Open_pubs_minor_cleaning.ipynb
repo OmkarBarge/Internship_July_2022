{
  "nbformat": 4,
  "nbformat_minor": 0,
  "metadata": {
    "colab": {
      "name": "Open_pubs_minor cleaning.ipynb",
      "provenance": []
    },
    "kernelspec": {
      "name": "python3",
      "display_name": "Python 3"
    },
    "language_info": {
      "name": "python"
    }
  },
  "cells": [
    {
      "cell_type": "code",
      "execution_count": 1,
      "metadata": {
        "id": "6qLdudF6LBJV"
      },
      "outputs": [],
      "source": [
        "import pandas as pd\n",
        "import numpy as np\n"
      ]
    },
    {
      "cell_type": "code",
      "source": [
        "pwd"
      ],
      "metadata": {
        "colab": {
          "base_uri": "https://localhost:8080/",
          "height": 36
        },
        "id": "4ghrAuTcLayA",
        "outputId": "06dd6a0a-1981-4356-8a37-e36b01de4ef7"
      },
      "execution_count": 4,
      "outputs": [
        {
          "output_type": "execute_result",
          "data": {
            "text/plain": [
              "'/content'"
            ],
            "application/vnd.google.colaboratory.intrinsic+json": {
              "type": "string"
            }
          },
          "metadata": {},
          "execution_count": 4
        }
      ]
    },
    {
      "cell_type": "code",
      "source": [
        "df = pd.read_csv('open_pubs.csv')"
      ],
      "metadata": {
        "id": "zy_5_w-VLNJl"
      },
      "execution_count": 5,
      "outputs": []
    },
    {
      "cell_type": "code",
      "source": [
        "df"
      ],
      "metadata": {
        "colab": {
          "base_uri": "https://localhost:8080/",
          "height": 658
        },
        "id": "NtlgCO13LT_h",
        "outputId": "a353da88-66c7-47d8-a67a-1c8eaca0c9d5"
      },
      "execution_count": 6,
      "outputs": [
        {
          "output_type": "execute_result",
          "data": {
            "text/plain": [
              "           22                                Anchor Inn  \\\n",
              "0          36                        Ark Bar Restaurant   \n",
              "1          74                                 Black Boy   \n",
              "2          75                               Black Horse   \n",
              "3          76                                Black Lion   \n",
              "4          97                              Brewers Arms   \n",
              "...       ...                                       ...   \n",
              "51325  597119  Wrexham & District War Memorial Club Ltd   \n",
              "51326  597127                 Wrexham Lager Social Club   \n",
              "51327  597130         Wrexham Rail Sports & Social Club   \n",
              "51328  597131                        Wrexham Rugby Club   \n",
              "51329  597137                                     Y Tai   \n",
              "\n",
              "             Upper Street, Stratford St Mary, COLCHESTER   CO7 6LW  604749  \\\n",
              "0      Ark Bar And Restaurant, Cattawade Street, Bran...  CO11 1RH  610194   \n",
              "1      The Lady Elizabeth, 7 Market Hill, SUDBURY, Su...  CO10 2EA  587334   \n",
              "2            Lower Street, Stratford St Mary, COLCHESTER   CO7 6JS  622675   \n",
              "3                          Lion Road, Glemsford, SUDBURY  CO10 7RF  622675   \n",
              "4      The Brewers Arms, Bower House Tye, Polstead, C...   CO6 5BZ  598743   \n",
              "...                                                  ...       ...     ...   \n",
              "51325  Wrexham War Memorial Club Farndon Street, Wrex...  LL13 8DE  333909   \n",
              "51326                 1 - 3 Union Road, Wrexham, Wrexham  LL13 7SR  333028   \n",
              "51327  Sports And Social Club, 44 Brook Street, Wrexh...  LL13 7LU  333259   \n",
              "51328  Wrexham Rugby Club Bryn Estyn Road, Wrexham, W...  LL13 9TY  335808   \n",
              "51329       Y Tai Railway Road, Brymbo, Wrexham, Wrexham  LL11 5EA  329721   \n",
              "\n",
              "        234404  51.970379   0.979340  Babergh  \n",
              "0       233329  51.958698   1.057832  Babergh  \n",
              "1       241316  52.038595   0.729915  Babergh  \n",
              "2     -5527598         \\N         \\N  Babergh  \n",
              "3     -5527598         \\N         \\N  Babergh  \n",
              "4       240655  52.028694   0.895650  Babergh  \n",
              "...        ...        ...        ...      ...  \n",
              "51325   350438  53.047100  -2.987319  Wrexham  \n",
              "51326   350563  53.048123  -3.000485  Wrexham  \n",
              "51327   350213  53.044998  -2.996966  Wrexham  \n",
              "51328   351078  53.053094  -2.959124  Wrexham  \n",
              "51329   353785  53.076638  -3.050512  Wrexham  \n",
              "\n",
              "[51330 rows x 9 columns]"
            ],
            "text/html": [
              "\n",
              "  <div id=\"df-0c0ceda6-3422-473a-b751-bc6fc4f25158\">\n",
              "    <div class=\"colab-df-container\">\n",
              "      <div>\n",
              "<style scoped>\n",
              "    .dataframe tbody tr th:only-of-type {\n",
              "        vertical-align: middle;\n",
              "    }\n",
              "\n",
              "    .dataframe tbody tr th {\n",
              "        vertical-align: top;\n",
              "    }\n",
              "\n",
              "    .dataframe thead th {\n",
              "        text-align: right;\n",
              "    }\n",
              "</style>\n",
              "<table border=\"1\" class=\"dataframe\">\n",
              "  <thead>\n",
              "    <tr style=\"text-align: right;\">\n",
              "      <th></th>\n",
              "      <th>22</th>\n",
              "      <th>Anchor Inn</th>\n",
              "      <th>Upper Street, Stratford St Mary, COLCHESTER</th>\n",
              "      <th>CO7 6LW</th>\n",
              "      <th>604749</th>\n",
              "      <th>234404</th>\n",
              "      <th>51.970379</th>\n",
              "      <th>0.979340</th>\n",
              "      <th>Babergh</th>\n",
              "    </tr>\n",
              "  </thead>\n",
              "  <tbody>\n",
              "    <tr>\n",
              "      <th>0</th>\n",
              "      <td>36</td>\n",
              "      <td>Ark Bar Restaurant</td>\n",
              "      <td>Ark Bar And Restaurant, Cattawade Street, Bran...</td>\n",
              "      <td>CO11 1RH</td>\n",
              "      <td>610194</td>\n",
              "      <td>233329</td>\n",
              "      <td>51.958698</td>\n",
              "      <td>1.057832</td>\n",
              "      <td>Babergh</td>\n",
              "    </tr>\n",
              "    <tr>\n",
              "      <th>1</th>\n",
              "      <td>74</td>\n",
              "      <td>Black Boy</td>\n",
              "      <td>The Lady Elizabeth, 7 Market Hill, SUDBURY, Su...</td>\n",
              "      <td>CO10 2EA</td>\n",
              "      <td>587334</td>\n",
              "      <td>241316</td>\n",
              "      <td>52.038595</td>\n",
              "      <td>0.729915</td>\n",
              "      <td>Babergh</td>\n",
              "    </tr>\n",
              "    <tr>\n",
              "      <th>2</th>\n",
              "      <td>75</td>\n",
              "      <td>Black Horse</td>\n",
              "      <td>Lower Street, Stratford St Mary, COLCHESTER</td>\n",
              "      <td>CO7 6JS</td>\n",
              "      <td>622675</td>\n",
              "      <td>-5527598</td>\n",
              "      <td>\\N</td>\n",
              "      <td>\\N</td>\n",
              "      <td>Babergh</td>\n",
              "    </tr>\n",
              "    <tr>\n",
              "      <th>3</th>\n",
              "      <td>76</td>\n",
              "      <td>Black Lion</td>\n",
              "      <td>Lion Road, Glemsford, SUDBURY</td>\n",
              "      <td>CO10 7RF</td>\n",
              "      <td>622675</td>\n",
              "      <td>-5527598</td>\n",
              "      <td>\\N</td>\n",
              "      <td>\\N</td>\n",
              "      <td>Babergh</td>\n",
              "    </tr>\n",
              "    <tr>\n",
              "      <th>4</th>\n",
              "      <td>97</td>\n",
              "      <td>Brewers Arms</td>\n",
              "      <td>The Brewers Arms, Bower House Tye, Polstead, C...</td>\n",
              "      <td>CO6 5BZ</td>\n",
              "      <td>598743</td>\n",
              "      <td>240655</td>\n",
              "      <td>52.028694</td>\n",
              "      <td>0.895650</td>\n",
              "      <td>Babergh</td>\n",
              "    </tr>\n",
              "    <tr>\n",
              "      <th>...</th>\n",
              "      <td>...</td>\n",
              "      <td>...</td>\n",
              "      <td>...</td>\n",
              "      <td>...</td>\n",
              "      <td>...</td>\n",
              "      <td>...</td>\n",
              "      <td>...</td>\n",
              "      <td>...</td>\n",
              "      <td>...</td>\n",
              "    </tr>\n",
              "    <tr>\n",
              "      <th>51325</th>\n",
              "      <td>597119</td>\n",
              "      <td>Wrexham &amp; District War Memorial Club Ltd</td>\n",
              "      <td>Wrexham War Memorial Club Farndon Street, Wrex...</td>\n",
              "      <td>LL13 8DE</td>\n",
              "      <td>333909</td>\n",
              "      <td>350438</td>\n",
              "      <td>53.047100</td>\n",
              "      <td>-2.987319</td>\n",
              "      <td>Wrexham</td>\n",
              "    </tr>\n",
              "    <tr>\n",
              "      <th>51326</th>\n",
              "      <td>597127</td>\n",
              "      <td>Wrexham Lager Social Club</td>\n",
              "      <td>1 - 3 Union Road, Wrexham, Wrexham</td>\n",
              "      <td>LL13 7SR</td>\n",
              "      <td>333028</td>\n",
              "      <td>350563</td>\n",
              "      <td>53.048123</td>\n",
              "      <td>-3.000485</td>\n",
              "      <td>Wrexham</td>\n",
              "    </tr>\n",
              "    <tr>\n",
              "      <th>51327</th>\n",
              "      <td>597130</td>\n",
              "      <td>Wrexham Rail Sports &amp; Social Club</td>\n",
              "      <td>Sports And Social Club, 44 Brook Street, Wrexh...</td>\n",
              "      <td>LL13 7LU</td>\n",
              "      <td>333259</td>\n",
              "      <td>350213</td>\n",
              "      <td>53.044998</td>\n",
              "      <td>-2.996966</td>\n",
              "      <td>Wrexham</td>\n",
              "    </tr>\n",
              "    <tr>\n",
              "      <th>51328</th>\n",
              "      <td>597131</td>\n",
              "      <td>Wrexham Rugby Club</td>\n",
              "      <td>Wrexham Rugby Club Bryn Estyn Road, Wrexham, W...</td>\n",
              "      <td>LL13 9TY</td>\n",
              "      <td>335808</td>\n",
              "      <td>351078</td>\n",
              "      <td>53.053094</td>\n",
              "      <td>-2.959124</td>\n",
              "      <td>Wrexham</td>\n",
              "    </tr>\n",
              "    <tr>\n",
              "      <th>51329</th>\n",
              "      <td>597137</td>\n",
              "      <td>Y Tai</td>\n",
              "      <td>Y Tai Railway Road, Brymbo, Wrexham, Wrexham</td>\n",
              "      <td>LL11 5EA</td>\n",
              "      <td>329721</td>\n",
              "      <td>353785</td>\n",
              "      <td>53.076638</td>\n",
              "      <td>-3.050512</td>\n",
              "      <td>Wrexham</td>\n",
              "    </tr>\n",
              "  </tbody>\n",
              "</table>\n",
              "<p>51330 rows × 9 columns</p>\n",
              "</div>\n",
              "      <button class=\"colab-df-convert\" onclick=\"convertToInteractive('df-0c0ceda6-3422-473a-b751-bc6fc4f25158')\"\n",
              "              title=\"Convert this dataframe to an interactive table.\"\n",
              "              style=\"display:none;\">\n",
              "        \n",
              "  <svg xmlns=\"http://www.w3.org/2000/svg\" height=\"24px\"viewBox=\"0 0 24 24\"\n",
              "       width=\"24px\">\n",
              "    <path d=\"M0 0h24v24H0V0z\" fill=\"none\"/>\n",
              "    <path d=\"M18.56 5.44l.94 2.06.94-2.06 2.06-.94-2.06-.94-.94-2.06-.94 2.06-2.06.94zm-11 1L8.5 8.5l.94-2.06 2.06-.94-2.06-.94L8.5 2.5l-.94 2.06-2.06.94zm10 10l.94 2.06.94-2.06 2.06-.94-2.06-.94-.94-2.06-.94 2.06-2.06.94z\"/><path d=\"M17.41 7.96l-1.37-1.37c-.4-.4-.92-.59-1.43-.59-.52 0-1.04.2-1.43.59L10.3 9.45l-7.72 7.72c-.78.78-.78 2.05 0 2.83L4 21.41c.39.39.9.59 1.41.59.51 0 1.02-.2 1.41-.59l7.78-7.78 2.81-2.81c.8-.78.8-2.07 0-2.86zM5.41 20L4 18.59l7.72-7.72 1.47 1.35L5.41 20z\"/>\n",
              "  </svg>\n",
              "      </button>\n",
              "      \n",
              "  <style>\n",
              "    .colab-df-container {\n",
              "      display:flex;\n",
              "      flex-wrap:wrap;\n",
              "      gap: 12px;\n",
              "    }\n",
              "\n",
              "    .colab-df-convert {\n",
              "      background-color: #E8F0FE;\n",
              "      border: none;\n",
              "      border-radius: 50%;\n",
              "      cursor: pointer;\n",
              "      display: none;\n",
              "      fill: #1967D2;\n",
              "      height: 32px;\n",
              "      padding: 0 0 0 0;\n",
              "      width: 32px;\n",
              "    }\n",
              "\n",
              "    .colab-df-convert:hover {\n",
              "      background-color: #E2EBFA;\n",
              "      box-shadow: 0px 1px 2px rgba(60, 64, 67, 0.3), 0px 1px 3px 1px rgba(60, 64, 67, 0.15);\n",
              "      fill: #174EA6;\n",
              "    }\n",
              "\n",
              "    [theme=dark] .colab-df-convert {\n",
              "      background-color: #3B4455;\n",
              "      fill: #D2E3FC;\n",
              "    }\n",
              "\n",
              "    [theme=dark] .colab-df-convert:hover {\n",
              "      background-color: #434B5C;\n",
              "      box-shadow: 0px 1px 3px 1px rgba(0, 0, 0, 0.15);\n",
              "      filter: drop-shadow(0px 1px 2px rgba(0, 0, 0, 0.3));\n",
              "      fill: #FFFFFF;\n",
              "    }\n",
              "  </style>\n",
              "\n",
              "      <script>\n",
              "        const buttonEl =\n",
              "          document.querySelector('#df-0c0ceda6-3422-473a-b751-bc6fc4f25158 button.colab-df-convert');\n",
              "        buttonEl.style.display =\n",
              "          google.colab.kernel.accessAllowed ? 'block' : 'none';\n",
              "\n",
              "        async function convertToInteractive(key) {\n",
              "          const element = document.querySelector('#df-0c0ceda6-3422-473a-b751-bc6fc4f25158');\n",
              "          const dataTable =\n",
              "            await google.colab.kernel.invokeFunction('convertToInteractive',\n",
              "                                                     [key], {});\n",
              "          if (!dataTable) return;\n",
              "\n",
              "          const docLinkHtml = 'Like what you see? Visit the ' +\n",
              "            '<a target=\"_blank\" href=https://colab.research.google.com/notebooks/data_table.ipynb>data table notebook</a>'\n",
              "            + ' to learn more about interactive tables.';\n",
              "          element.innerHTML = '';\n",
              "          dataTable['output_type'] = 'display_data';\n",
              "          await google.colab.output.renderOutput(dataTable, element);\n",
              "          const docLink = document.createElement('div');\n",
              "          docLink.innerHTML = docLinkHtml;\n",
              "          element.appendChild(docLink);\n",
              "        }\n",
              "      </script>\n",
              "    </div>\n",
              "  </div>\n",
              "  "
            ]
          },
          "metadata": {},
          "execution_count": 6
        }
      ]
    },
    {
      "cell_type": "code",
      "source": [
        "columns_name = ['fsa_id','name','address','postcode','easting','northing','latitude','longitude','local_authority']"
      ],
      "metadata": {
        "id": "P79KGaapLeXe"
      },
      "execution_count": 12,
      "outputs": []
    },
    {
      "cell_type": "code",
      "source": [
        "df.columns = columns_name"
      ],
      "metadata": {
        "id": "RrWdwQySLhUt"
      },
      "execution_count": 13,
      "outputs": []
    },
    {
      "cell_type": "code",
      "source": [
        "df"
      ],
      "metadata": {
        "colab": {
          "base_uri": "https://localhost:8080/",
          "height": 624
        },
        "id": "vEJ0CnsrMNwM",
        "outputId": "05ffa56f-4d1b-403b-b634-d85531d565fb"
      },
      "execution_count": 14,
      "outputs": [
        {
          "output_type": "execute_result",
          "data": {
            "text/plain": [
              "       fsa_id                                      name  \\\n",
              "0          36                        Ark Bar Restaurant   \n",
              "1          74                                 Black Boy   \n",
              "2          75                               Black Horse   \n",
              "3          76                                Black Lion   \n",
              "4          97                              Brewers Arms   \n",
              "...       ...                                       ...   \n",
              "51325  597119  Wrexham & District War Memorial Club Ltd   \n",
              "51326  597127                 Wrexham Lager Social Club   \n",
              "51327  597130         Wrexham Rail Sports & Social Club   \n",
              "51328  597131                        Wrexham Rugby Club   \n",
              "51329  597137                                     Y Tai   \n",
              "\n",
              "                                                 address  postcode  easting  \\\n",
              "0      Ark Bar And Restaurant, Cattawade Street, Bran...  CO11 1RH   610194   \n",
              "1      The Lady Elizabeth, 7 Market Hill, SUDBURY, Su...  CO10 2EA   587334   \n",
              "2            Lower Street, Stratford St Mary, COLCHESTER   CO7 6JS   622675   \n",
              "3                          Lion Road, Glemsford, SUDBURY  CO10 7RF   622675   \n",
              "4      The Brewers Arms, Bower House Tye, Polstead, C...   CO6 5BZ   598743   \n",
              "...                                                  ...       ...      ...   \n",
              "51325  Wrexham War Memorial Club Farndon Street, Wrex...  LL13 8DE   333909   \n",
              "51326                 1 - 3 Union Road, Wrexham, Wrexham  LL13 7SR   333028   \n",
              "51327  Sports And Social Club, 44 Brook Street, Wrexh...  LL13 7LU   333259   \n",
              "51328  Wrexham Rugby Club Bryn Estyn Road, Wrexham, W...  LL13 9TY   335808   \n",
              "51329       Y Tai Railway Road, Brymbo, Wrexham, Wrexham  LL11 5EA   329721   \n",
              "\n",
              "       northing   latitude  longitude local_authority  \n",
              "0        233329  51.958698   1.057832         Babergh  \n",
              "1        241316  52.038595   0.729915         Babergh  \n",
              "2      -5527598         \\N         \\N         Babergh  \n",
              "3      -5527598         \\N         \\N         Babergh  \n",
              "4        240655  52.028694   0.895650         Babergh  \n",
              "...         ...        ...        ...             ...  \n",
              "51325    350438  53.047100  -2.987319         Wrexham  \n",
              "51326    350563  53.048123  -3.000485         Wrexham  \n",
              "51327    350213  53.044998  -2.996966         Wrexham  \n",
              "51328    351078  53.053094  -2.959124         Wrexham  \n",
              "51329    353785  53.076638  -3.050512         Wrexham  \n",
              "\n",
              "[51330 rows x 9 columns]"
            ],
            "text/html": [
              "\n",
              "  <div id=\"df-3ba8faf5-000b-44ea-ba1e-889f85b37b01\">\n",
              "    <div class=\"colab-df-container\">\n",
              "      <div>\n",
              "<style scoped>\n",
              "    .dataframe tbody tr th:only-of-type {\n",
              "        vertical-align: middle;\n",
              "    }\n",
              "\n",
              "    .dataframe tbody tr th {\n",
              "        vertical-align: top;\n",
              "    }\n",
              "\n",
              "    .dataframe thead th {\n",
              "        text-align: right;\n",
              "    }\n",
              "</style>\n",
              "<table border=\"1\" class=\"dataframe\">\n",
              "  <thead>\n",
              "    <tr style=\"text-align: right;\">\n",
              "      <th></th>\n",
              "      <th>fsa_id</th>\n",
              "      <th>name</th>\n",
              "      <th>address</th>\n",
              "      <th>postcode</th>\n",
              "      <th>easting</th>\n",
              "      <th>northing</th>\n",
              "      <th>latitude</th>\n",
              "      <th>longitude</th>\n",
              "      <th>local_authority</th>\n",
              "    </tr>\n",
              "  </thead>\n",
              "  <tbody>\n",
              "    <tr>\n",
              "      <th>0</th>\n",
              "      <td>36</td>\n",
              "      <td>Ark Bar Restaurant</td>\n",
              "      <td>Ark Bar And Restaurant, Cattawade Street, Bran...</td>\n",
              "      <td>CO11 1RH</td>\n",
              "      <td>610194</td>\n",
              "      <td>233329</td>\n",
              "      <td>51.958698</td>\n",
              "      <td>1.057832</td>\n",
              "      <td>Babergh</td>\n",
              "    </tr>\n",
              "    <tr>\n",
              "      <th>1</th>\n",
              "      <td>74</td>\n",
              "      <td>Black Boy</td>\n",
              "      <td>The Lady Elizabeth, 7 Market Hill, SUDBURY, Su...</td>\n",
              "      <td>CO10 2EA</td>\n",
              "      <td>587334</td>\n",
              "      <td>241316</td>\n",
              "      <td>52.038595</td>\n",
              "      <td>0.729915</td>\n",
              "      <td>Babergh</td>\n",
              "    </tr>\n",
              "    <tr>\n",
              "      <th>2</th>\n",
              "      <td>75</td>\n",
              "      <td>Black Horse</td>\n",
              "      <td>Lower Street, Stratford St Mary, COLCHESTER</td>\n",
              "      <td>CO7 6JS</td>\n",
              "      <td>622675</td>\n",
              "      <td>-5527598</td>\n",
              "      <td>\\N</td>\n",
              "      <td>\\N</td>\n",
              "      <td>Babergh</td>\n",
              "    </tr>\n",
              "    <tr>\n",
              "      <th>3</th>\n",
              "      <td>76</td>\n",
              "      <td>Black Lion</td>\n",
              "      <td>Lion Road, Glemsford, SUDBURY</td>\n",
              "      <td>CO10 7RF</td>\n",
              "      <td>622675</td>\n",
              "      <td>-5527598</td>\n",
              "      <td>\\N</td>\n",
              "      <td>\\N</td>\n",
              "      <td>Babergh</td>\n",
              "    </tr>\n",
              "    <tr>\n",
              "      <th>4</th>\n",
              "      <td>97</td>\n",
              "      <td>Brewers Arms</td>\n",
              "      <td>The Brewers Arms, Bower House Tye, Polstead, C...</td>\n",
              "      <td>CO6 5BZ</td>\n",
              "      <td>598743</td>\n",
              "      <td>240655</td>\n",
              "      <td>52.028694</td>\n",
              "      <td>0.895650</td>\n",
              "      <td>Babergh</td>\n",
              "    </tr>\n",
              "    <tr>\n",
              "      <th>...</th>\n",
              "      <td>...</td>\n",
              "      <td>...</td>\n",
              "      <td>...</td>\n",
              "      <td>...</td>\n",
              "      <td>...</td>\n",
              "      <td>...</td>\n",
              "      <td>...</td>\n",
              "      <td>...</td>\n",
              "      <td>...</td>\n",
              "    </tr>\n",
              "    <tr>\n",
              "      <th>51325</th>\n",
              "      <td>597119</td>\n",
              "      <td>Wrexham &amp; District War Memorial Club Ltd</td>\n",
              "      <td>Wrexham War Memorial Club Farndon Street, Wrex...</td>\n",
              "      <td>LL13 8DE</td>\n",
              "      <td>333909</td>\n",
              "      <td>350438</td>\n",
              "      <td>53.047100</td>\n",
              "      <td>-2.987319</td>\n",
              "      <td>Wrexham</td>\n",
              "    </tr>\n",
              "    <tr>\n",
              "      <th>51326</th>\n",
              "      <td>597127</td>\n",
              "      <td>Wrexham Lager Social Club</td>\n",
              "      <td>1 - 3 Union Road, Wrexham, Wrexham</td>\n",
              "      <td>LL13 7SR</td>\n",
              "      <td>333028</td>\n",
              "      <td>350563</td>\n",
              "      <td>53.048123</td>\n",
              "      <td>-3.000485</td>\n",
              "      <td>Wrexham</td>\n",
              "    </tr>\n",
              "    <tr>\n",
              "      <th>51327</th>\n",
              "      <td>597130</td>\n",
              "      <td>Wrexham Rail Sports &amp; Social Club</td>\n",
              "      <td>Sports And Social Club, 44 Brook Street, Wrexh...</td>\n",
              "      <td>LL13 7LU</td>\n",
              "      <td>333259</td>\n",
              "      <td>350213</td>\n",
              "      <td>53.044998</td>\n",
              "      <td>-2.996966</td>\n",
              "      <td>Wrexham</td>\n",
              "    </tr>\n",
              "    <tr>\n",
              "      <th>51328</th>\n",
              "      <td>597131</td>\n",
              "      <td>Wrexham Rugby Club</td>\n",
              "      <td>Wrexham Rugby Club Bryn Estyn Road, Wrexham, W...</td>\n",
              "      <td>LL13 9TY</td>\n",
              "      <td>335808</td>\n",
              "      <td>351078</td>\n",
              "      <td>53.053094</td>\n",
              "      <td>-2.959124</td>\n",
              "      <td>Wrexham</td>\n",
              "    </tr>\n",
              "    <tr>\n",
              "      <th>51329</th>\n",
              "      <td>597137</td>\n",
              "      <td>Y Tai</td>\n",
              "      <td>Y Tai Railway Road, Brymbo, Wrexham, Wrexham</td>\n",
              "      <td>LL11 5EA</td>\n",
              "      <td>329721</td>\n",
              "      <td>353785</td>\n",
              "      <td>53.076638</td>\n",
              "      <td>-3.050512</td>\n",
              "      <td>Wrexham</td>\n",
              "    </tr>\n",
              "  </tbody>\n",
              "</table>\n",
              "<p>51330 rows × 9 columns</p>\n",
              "</div>\n",
              "      <button class=\"colab-df-convert\" onclick=\"convertToInteractive('df-3ba8faf5-000b-44ea-ba1e-889f85b37b01')\"\n",
              "              title=\"Convert this dataframe to an interactive table.\"\n",
              "              style=\"display:none;\">\n",
              "        \n",
              "  <svg xmlns=\"http://www.w3.org/2000/svg\" height=\"24px\"viewBox=\"0 0 24 24\"\n",
              "       width=\"24px\">\n",
              "    <path d=\"M0 0h24v24H0V0z\" fill=\"none\"/>\n",
              "    <path d=\"M18.56 5.44l.94 2.06.94-2.06 2.06-.94-2.06-.94-.94-2.06-.94 2.06-2.06.94zm-11 1L8.5 8.5l.94-2.06 2.06-.94-2.06-.94L8.5 2.5l-.94 2.06-2.06.94zm10 10l.94 2.06.94-2.06 2.06-.94-2.06-.94-.94-2.06-.94 2.06-2.06.94z\"/><path d=\"M17.41 7.96l-1.37-1.37c-.4-.4-.92-.59-1.43-.59-.52 0-1.04.2-1.43.59L10.3 9.45l-7.72 7.72c-.78.78-.78 2.05 0 2.83L4 21.41c.39.39.9.59 1.41.59.51 0 1.02-.2 1.41-.59l7.78-7.78 2.81-2.81c.8-.78.8-2.07 0-2.86zM5.41 20L4 18.59l7.72-7.72 1.47 1.35L5.41 20z\"/>\n",
              "  </svg>\n",
              "      </button>\n",
              "      \n",
              "  <style>\n",
              "    .colab-df-container {\n",
              "      display:flex;\n",
              "      flex-wrap:wrap;\n",
              "      gap: 12px;\n",
              "    }\n",
              "\n",
              "    .colab-df-convert {\n",
              "      background-color: #E8F0FE;\n",
              "      border: none;\n",
              "      border-radius: 50%;\n",
              "      cursor: pointer;\n",
              "      display: none;\n",
              "      fill: #1967D2;\n",
              "      height: 32px;\n",
              "      padding: 0 0 0 0;\n",
              "      width: 32px;\n",
              "    }\n",
              "\n",
              "    .colab-df-convert:hover {\n",
              "      background-color: #E2EBFA;\n",
              "      box-shadow: 0px 1px 2px rgba(60, 64, 67, 0.3), 0px 1px 3px 1px rgba(60, 64, 67, 0.15);\n",
              "      fill: #174EA6;\n",
              "    }\n",
              "\n",
              "    [theme=dark] .colab-df-convert {\n",
              "      background-color: #3B4455;\n",
              "      fill: #D2E3FC;\n",
              "    }\n",
              "\n",
              "    [theme=dark] .colab-df-convert:hover {\n",
              "      background-color: #434B5C;\n",
              "      box-shadow: 0px 1px 3px 1px rgba(0, 0, 0, 0.15);\n",
              "      filter: drop-shadow(0px 1px 2px rgba(0, 0, 0, 0.3));\n",
              "      fill: #FFFFFF;\n",
              "    }\n",
              "  </style>\n",
              "\n",
              "      <script>\n",
              "        const buttonEl =\n",
              "          document.querySelector('#df-3ba8faf5-000b-44ea-ba1e-889f85b37b01 button.colab-df-convert');\n",
              "        buttonEl.style.display =\n",
              "          google.colab.kernel.accessAllowed ? 'block' : 'none';\n",
              "\n",
              "        async function convertToInteractive(key) {\n",
              "          const element = document.querySelector('#df-3ba8faf5-000b-44ea-ba1e-889f85b37b01');\n",
              "          const dataTable =\n",
              "            await google.colab.kernel.invokeFunction('convertToInteractive',\n",
              "                                                     [key], {});\n",
              "          if (!dataTable) return;\n",
              "\n",
              "          const docLinkHtml = 'Like what you see? Visit the ' +\n",
              "            '<a target=\"_blank\" href=https://colab.research.google.com/notebooks/data_table.ipynb>data table notebook</a>'\n",
              "            + ' to learn more about interactive tables.';\n",
              "          element.innerHTML = '';\n",
              "          dataTable['output_type'] = 'display_data';\n",
              "          await google.colab.output.renderOutput(dataTable, element);\n",
              "          const docLink = document.createElement('div');\n",
              "          docLink.innerHTML = docLinkHtml;\n",
              "          element.appendChild(docLink);\n",
              "        }\n",
              "      </script>\n",
              "    </div>\n",
              "  </div>\n",
              "  "
            ]
          },
          "metadata": {},
          "execution_count": 14
        }
      ]
    },
    {
      "cell_type": "code",
      "source": [
        "df.shape"
      ],
      "metadata": {
        "colab": {
          "base_uri": "https://localhost:8080/"
        },
        "id": "qyy2MdItNIa6",
        "outputId": "d13e2883-da1c-481e-d211-a06b170a6051"
      },
      "execution_count": 19,
      "outputs": [
        {
          "output_type": "execute_result",
          "data": {
            "text/plain": [
              "(51330, 9)"
            ]
          },
          "metadata": {},
          "execution_count": 19
        }
      ]
    },
    {
      "cell_type": "code",
      "source": [
        "df.info()"
      ],
      "metadata": {
        "colab": {
          "base_uri": "https://localhost:8080/"
        },
        "id": "cd8Y8I1BMRPB",
        "outputId": "c50d766a-7070-4ea3-c724-e7ece489217c"
      },
      "execution_count": 15,
      "outputs": [
        {
          "output_type": "stream",
          "name": "stdout",
          "text": [
            "<class 'pandas.core.frame.DataFrame'>\n",
            "RangeIndex: 51330 entries, 0 to 51329\n",
            "Data columns (total 9 columns):\n",
            " #   Column           Non-Null Count  Dtype \n",
            "---  ------           --------------  ----- \n",
            " 0   fsa_id           51330 non-null  int64 \n",
            " 1   name             51330 non-null  object\n",
            " 2   address          51330 non-null  object\n",
            " 3   postcode         51330 non-null  object\n",
            " 4   easting          51330 non-null  int64 \n",
            " 5   northing         51330 non-null  int64 \n",
            " 6   latitude         51330 non-null  object\n",
            " 7   longitude        51330 non-null  object\n",
            " 8   local_authority  51330 non-null  object\n",
            "dtypes: int64(3), object(6)\n",
            "memory usage: 3.5+ MB\n"
          ]
        }
      ]
    },
    {
      "cell_type": "code",
      "source": [
        "df.isnull().sum()"
      ],
      "metadata": {
        "colab": {
          "base_uri": "https://localhost:8080/"
        },
        "id": "Ufz7kZRUMVuD",
        "outputId": "eb74d332-ab17-4f5a-de5e-cbd2f52da8a4"
      },
      "execution_count": 16,
      "outputs": [
        {
          "output_type": "execute_result",
          "data": {
            "text/plain": [
              "fsa_id             0\n",
              "name               0\n",
              "address            0\n",
              "postcode           0\n",
              "easting            0\n",
              "northing           0\n",
              "latitude           0\n",
              "longitude          0\n",
              "local_authority    0\n",
              "dtype: int64"
            ]
          },
          "metadata": {},
          "execution_count": 16
        }
      ]
    },
    {
      "cell_type": "code",
      "source": [
        "df.replace('\\\\N', np.nan,inplace=True)"
      ],
      "metadata": {
        "id": "s1HplL6XMuz4"
      },
      "execution_count": 37,
      "outputs": []
    },
    {
      "cell_type": "code",
      "source": [
        "df.isnull().sum()"
      ],
      "metadata": {
        "colab": {
          "base_uri": "https://localhost:8080/"
        },
        "id": "JP7iqvimNntn",
        "outputId": "313336b4-dc75-48d5-e0a7-68a3bd0930d1"
      },
      "execution_count": 38,
      "outputs": [
        {
          "output_type": "execute_result",
          "data": {
            "text/plain": [
              "fsa_id               0\n",
              "name                 0\n",
              "address              0\n",
              "postcode             0\n",
              "easting              0\n",
              "northing             0\n",
              "latitude           767\n",
              "longitude          767\n",
              "local_authority      0\n",
              "dtype: int64"
            ]
          },
          "metadata": {},
          "execution_count": 38
        }
      ]
    },
    {
      "cell_type": "code",
      "source": [
        "df['longitude'] = df['longitude'].astype('float')"
      ],
      "metadata": {
        "id": "eHOU53sHOrQL"
      },
      "execution_count": 39,
      "outputs": []
    },
    {
      "cell_type": "code",
      "source": [
        "df['latitude'] = df['latitude'].astype('float')"
      ],
      "metadata": {
        "id": "GuZOa_n9O3I4"
      },
      "execution_count": 40,
      "outputs": []
    },
    {
      "cell_type": "code",
      "source": [
        "df.dropna(inplace=True)"
      ],
      "metadata": {
        "id": "o4Cxu4erPB7f"
      },
      "execution_count": 43,
      "outputs": []
    },
    {
      "cell_type": "code",
      "source": [
        "df.isnull().sum()"
      ],
      "metadata": {
        "colab": {
          "base_uri": "https://localhost:8080/"
        },
        "id": "e-LK5x5iPD9o",
        "outputId": "0a4a9189-0a14-4a4c-a858-12df9ecf0a36"
      },
      "execution_count": 44,
      "outputs": [
        {
          "output_type": "execute_result",
          "data": {
            "text/plain": [
              "fsa_id             0\n",
              "name               0\n",
              "address            0\n",
              "postcode           0\n",
              "easting            0\n",
              "northing           0\n",
              "latitude           0\n",
              "longitude          0\n",
              "local_authority    0\n",
              "dtype: int64"
            ]
          },
          "metadata": {},
          "execution_count": 44
        }
      ]
    },
    {
      "cell_type": "code",
      "source": [
        "df.shape"
      ],
      "metadata": {
        "colab": {
          "base_uri": "https://localhost:8080/"
        },
        "id": "Yn3BzfusPGPn",
        "outputId": "4234e043-3426-472c-e7fd-c1ee368d66af"
      },
      "execution_count": 45,
      "outputs": [
        {
          "output_type": "execute_result",
          "data": {
            "text/plain": [
              "(50563, 9)"
            ]
          },
          "metadata": {},
          "execution_count": 45
        }
      ]
    },
    {
      "cell_type": "code",
      "source": [
        "df.to_csv('clean_open_pubs_data.csv', index=False)\n",
        "df.to_excel('clean_open_pubs_data.xls', index=False)"
      ],
      "metadata": {
        "colab": {
          "base_uri": "https://localhost:8080/"
        },
        "id": "gXQxxSKnPKgS",
        "outputId": "7030dc53-56f5-44a9-e656-9d10c5be20ad"
      },
      "execution_count": 46,
      "outputs": [
        {
          "output_type": "stream",
          "name": "stderr",
          "text": [
            "/usr/local/lib/python3.7/dist-packages/ipykernel_launcher.py:2: FutureWarning: As the xlwt package is no longer maintained, the xlwt engine will be removed in a future version of pandas. This is the only engine in pandas that supports writing in the xls format. Install openpyxl and write to an xlsx file instead. You can set the option io.excel.xls.writer to 'xlwt' to silence this warning. While this option is deprecated and will also raise a warning, it can be globally set and the warning suppressed.\n",
            "  \n"
          ]
        }
      ]
    },
    {
      "cell_type": "code",
      "source": [
        ""
      ],
      "metadata": {
        "id": "eHnqOvYmP0ni"
      },
      "execution_count": null,
      "outputs": []
    }
  ]
}